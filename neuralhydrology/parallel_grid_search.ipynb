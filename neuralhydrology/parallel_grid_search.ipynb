{
 "cells": [
  {
   "cell_type": "code",
   "execution_count": 1,
   "metadata": {},
   "outputs": [],
   "source": [
    "import pickle\n",
    "from pathlib import Path\n",
    "import pandas as pd\n",
    "\n",
    "import matplotlib.pyplot as plt\n",
    "import torch\n",
    "from neuralhydrology.evaluation.metrics import *\n",
    "from neuralhydrology.evaluation.evaluate import ESDL_start_evaluation\n",
    "from neuralhydrology.nh_run import start_run, eval_run, finetune, ESDL_eval_run_test_period, ESDL_start_run\n",
    "from neuralhydrology.utils.nh_results_ensemble import create_results_ensemble\n",
    "from neuralhydrology.evaluation.metrics import calculate_metrics\n",
    "import xarray as xr\n",
    "from neuralhydrology.utils.config import Config"
   ]
  },
  {
   "cell_type": "code",
   "execution_count": 8,
   "metadata": {},
   "outputs": [
    {
     "name": "stdout",
     "output_type": "stream",
     "text": [
      "2024-04-07 20:30:45,914: Logging to /Users/evanrobert/Documents/ESDL_Research/ESDL_LSTM/neuralhydrology/runs/parallel_grid_search_test_0704_203045/output.log initialized.\n",
      "2024-04-07 20:30:45,917: ### Folder structure created at /Users/evanrobert/Documents/ESDL_Research/ESDL_LSTM/neuralhydrology/runs/parallel_grid_search_test_0704_203045\n",
      "2024-04-07 20:30:45,917: ### Run configurations for parallel_grid_search_test\n",
      "2024-04-07 20:30:45,918: experiment_name: parallel_grid_search_test\n",
      "2024-04-07 20:30:45,921: train_basin_file: ../initial_exploration/exploration_tuler\n",
      "2024-04-07 20:30:45,921: validation_basin_file: ../initial_exploration/exploration_tuler\n",
      "2024-04-07 20:30:45,922: test_basin_file: ../initial_exploration/exploration_tuler\n",
      "2024-04-07 20:30:45,922: train_start_date: 1981-10-01 00:00:00\n",
      "2024-04-07 20:30:45,923: train_end_date: 1997-09-30 00:00:00\n",
      "2024-04-07 20:30:45,924: validation_start_date: 1997-10-01 00:00:00\n",
      "2024-04-07 20:30:45,926: validation_end_date: 2000-09-30 00:00:00\n",
      "2024-04-07 20:30:45,926: test_start_date: 2000-10-01 00:00:00\n",
      "2024-04-07 20:30:45,927: test_end_date: 2005-09-30 00:00:00\n",
      "2024-04-07 20:30:45,927: device: cpu\n",
      "2024-04-07 20:30:45,932: validate_every: 5\n",
      "2024-04-07 20:30:45,933: validate_n_random_basins: 1\n",
      "2024-04-07 20:30:45,935: metrics: ['NSE', 'MSE']\n",
      "2024-04-07 20:30:45,937: model: cudalstm\n",
      "2024-04-07 20:30:45,943: head: regression\n",
      "2024-04-07 20:30:45,948: output_activation: linear\n",
      "2024-04-07 20:30:45,952: hidden_size: 64\n",
      "2024-04-07 20:30:45,955: initial_forget_bias: 3\n",
      "2024-04-07 20:30:45,959: output_dropout: 0.5\n",
      "2024-04-07 20:30:45,962: optimizer: Adam\n",
      "2024-04-07 20:30:45,964: loss: MSE\n",
      "2024-04-07 20:30:45,965: learning_rate: {0: 0.01, 30: 0.005, 40: 0.001}\n",
      "2024-04-07 20:30:45,967: batch_size: 256\n",
      "2024-04-07 20:30:45,970: epochs: 14\n",
      "2024-04-07 20:30:45,974: clip_gradient_norm: 1\n",
      "2024-04-07 20:30:45,974: predict_last_n: 1\n",
      "2024-04-07 20:30:45,975: seq_length: 365\n",
      "2024-04-07 20:30:45,975: num_workers: 8\n",
      "2024-04-07 20:30:45,976: log_interval: 5\n",
      "2024-04-07 20:30:45,977: log_tensorboard: True\n",
      "2024-04-07 20:30:45,978: log_n_figures: 1\n",
      "2024-04-07 20:30:45,978: save_weights_every: 4\n",
      "2024-04-07 20:30:45,979: dataset: usace\n",
      "2024-04-07 20:30:45,980: data_dir: /Users/evanrobert/Documents/ESDL_Research/Training_Data_3_Basins\n",
      "2024-04-07 20:30:45,982: dynamic_inputs: ['MF_TuleR_S10ET-POTENTIAL', 'MF_TuleR_S10FLOW', 'MF_TuleR_S10PRECIP-INC', 'MF_TuleR_S10SATURATION FRACTION', 'MF_TuleR_S10STORAGE-SOIL', 'MF_TuleR_S10SWE-OBSERVED', 'MF_TuleR_S10TEMPERATURE-AIR', 'MF_TuleR_S20ET-POTENTIAL', 'MF_TuleR_S20FLOW', 'MF_TuleR_S20PRECIP-INC', 'MF_TuleR_S20SATURATION FRACTION', 'MF_TuleR_S20STORAGE-SOIL', 'MF_TuleR_S20SWE-OBSERVED', 'MF_TuleR_S20TEMPERATURE-AIR', 'NF_TuleR_S10ET-POTENTIAL', 'NF_TuleR_S10FLOW', 'NF_TuleR_S10PRECIP-INC', 'NF_TuleR_S10SATURATION FRACTION', 'NF_TuleR_S10STORAGE-SOIL', 'NF_TuleR_S10SWE-OBSERVED', 'NF_TuleR_S10TEMPERATURE-AIR', 'ReservoirInflowFLOW', 'SF_TuleR_S10ET-POTENTIAL', 'SF_TuleR_S10FLOW', 'SF_TuleR_S10PRECIP-INC', 'SF_TuleR_S10SATURATION FRACTION', 'SF_TuleR_S10STORAGE-SOIL', 'SF_TuleR_S10SWE-OBSERVED', 'SF_TuleR_S10TEMPERATURE-AIR', 'TuleR_S10ET-POTENTIAL', 'TuleR_S10FLOW', 'TuleR_S10PRECIP-INC', 'TuleR_S10SATURATION FRACTION', 'TuleR_S10STORAGE-SOIL', 'TuleR_S10TEMPERATURE-AIR', 'TuleR_S20ET-POTENTIAL', 'TuleR_S20FLOW', 'TuleR_S20PRECIP-INC', 'TuleR_S20SATURATION FRACTION', 'TuleR_S20STORAGE-SOIL', 'TuleR_S20SWE-OBSERVED', 'TuleR_S20TEMPERATURE-AIR']\n",
      "2024-04-07 20:30:45,983: target_variables: ['ReservoirInflowFLOW-OBSERVED']\n",
      "2024-04-07 20:30:45,983: number_of_basins: 1\n",
      "2024-04-07 20:30:45,984: run_dir: /Users/evanrobert/Documents/ESDL_Research/ESDL_LSTM/neuralhydrology/runs/parallel_grid_search_test_0704_203045\n",
      "2024-04-07 20:30:45,984: train_dir: /Users/evanrobert/Documents/ESDL_Research/ESDL_LSTM/neuralhydrology/runs/parallel_grid_search_test_0704_203045/train_data\n",
      "2024-04-07 20:30:45,985: img_log_dir: /Users/evanrobert/Documents/ESDL_Research/ESDL_LSTM/neuralhydrology/runs/parallel_grid_search_test_0704_203045/img_log\n",
      "2024-04-07 20:30:45,988: ### Device cpu will be used for training\n",
      "2024-04-07 20:30:45,990: Loading basin data into xarray data set.\n",
      "100%|██████████| 1/1 [00:00<00:00,  7.59it/s]\n",
      "2024-04-07 20:30:46,151: Create lookup table and convert to pytorch tensor\n",
      "100%|██████████| 1/1 [00:00<00:00,  6.03it/s]\n",
      "# Epoch 1: 100%|██████████| 22/22 [00:24<00:00,  1.13s/it, Loss: 0.0780]\n",
      "2024-04-07 20:31:11,457: Epoch 1 average loss: avg_loss: 0.22338, avg_total_loss: 0.22338\n",
      "# Epoch 2:   0%|          | 0/22 [00:03<?, ?it/s]\n"
     ]
    },
    {
     "ename": "KeyboardInterrupt",
     "evalue": "",
     "output_type": "error",
     "traceback": [
      "\u001b[0;31m---------------------------------------------------------------------------\u001b[0m",
      "\u001b[0;31mKeyboardInterrupt\u001b[0m                         Traceback (most recent call last)",
      "Cell \u001b[0;32mIn[8], line 2\u001b[0m\n\u001b[1;32m      1\u001b[0m config \u001b[38;5;241m=\u001b[39m Config(Path(\u001b[38;5;124m\"\u001b[39m\u001b[38;5;124m../initial_exploration/parallel_grid_search.yml\u001b[39m\u001b[38;5;124m\"\u001b[39m))\n\u001b[0;32m----> 2\u001b[0m \u001b[43mESDL_start_run\u001b[49m\u001b[43m(\u001b[49m\u001b[43mconfig\u001b[49m\u001b[43m,\u001b[49m\u001b[43m \u001b[49m\u001b[43mgpu\u001b[49m\u001b[38;5;241;43m=\u001b[39;49m\u001b[38;5;241;43m-\u001b[39;49m\u001b[38;5;241;43m1\u001b[39;49m\u001b[43m)\u001b[49m\n",
      "File \u001b[0;32m~/Documents/ESDL_Research/ESDL_LSTM/neuralhydrology/neuralhydrology/nh_run.py:101\u001b[0m, in \u001b[0;36mESDL_start_run\u001b[0;34m(config, gpu)\u001b[0m\n\u001b[1;32m     <a href='file:///Users/evanrobert/Documents/ESDL_Research/ESDL_LSTM/neuralhydrology/neuralhydrology/nh_run.py?line=97'>98</a>\u001b[0m \u001b[39mif\u001b[39;00m gpu \u001b[39mis\u001b[39;00m \u001b[39mnot\u001b[39;00m \u001b[39mNone\u001b[39;00m \u001b[39mand\u001b[39;00m gpu \u001b[39m<\u001b[39m \u001b[39m0\u001b[39m:\n\u001b[1;32m     <a href='file:///Users/evanrobert/Documents/ESDL_Research/ESDL_LSTM/neuralhydrology/neuralhydrology/nh_run.py?line=98'>99</a>\u001b[0m     config\u001b[39m.\u001b[39mdevice \u001b[39m=\u001b[39m \u001b[39m\"\u001b[39m\u001b[39mcpu\u001b[39m\u001b[39m\"\u001b[39m\n\u001b[0;32m--> <a href='file:///Users/evanrobert/Documents/ESDL_Research/ESDL_LSTM/neuralhydrology/neuralhydrology/nh_run.py?line=100'>101</a>\u001b[0m start_training(config)\n",
      "File \u001b[0;32m~/Documents/ESDL_Research/ESDL_LSTM/neuralhydrology/neuralhydrology/training/train.py:20\u001b[0m, in \u001b[0;36mstart_training\u001b[0;34m(cfg)\u001b[0m\n\u001b[1;32m     <a href='file:///Users/evanrobert/Documents/ESDL_Research/ESDL_LSTM/neuralhydrology/neuralhydrology/training/train.py?line=17'>18</a>\u001b[0m     \u001b[39mraise\u001b[39;00m \u001b[39mValueError\u001b[39;00m(\u001b[39mf\u001b[39m\u001b[39m\"\u001b[39m\u001b[39mUnknown head \u001b[39m\u001b[39m{\u001b[39;00mcfg\u001b[39m.\u001b[39mhead\u001b[39m}\u001b[39;00m\u001b[39m.\u001b[39m\u001b[39m\"\u001b[39m)\n\u001b[1;32m     <a href='file:///Users/evanrobert/Documents/ESDL_Research/ESDL_LSTM/neuralhydrology/neuralhydrology/training/train.py?line=18'>19</a>\u001b[0m trainer\u001b[39m.\u001b[39minitialize_training()\n\u001b[0;32m---> <a href='file:///Users/evanrobert/Documents/ESDL_Research/ESDL_LSTM/neuralhydrology/neuralhydrology/training/train.py?line=19'>20</a>\u001b[0m trainer\u001b[39m.\u001b[39;49mtrain_and_validate()\n",
      "File \u001b[0;32m~/Documents/ESDL_Research/ESDL_LSTM/neuralhydrology/neuralhydrology/training/basetrainer.py:214\u001b[0m, in \u001b[0;36mBaseTrainer.train_and_validate\u001b[0;34m(self)\u001b[0m\n\u001b[1;32m    <a href='file:///Users/evanrobert/Documents/ESDL_Research/ESDL_LSTM/neuralhydrology/neuralhydrology/training/basetrainer.py?line=210'>211</a>\u001b[0m     \u001b[39mfor\u001b[39;00m param_group \u001b[39min\u001b[39;00m \u001b[39mself\u001b[39m\u001b[39m.\u001b[39moptimizer\u001b[39m.\u001b[39mparam_groups:\n\u001b[1;32m    <a href='file:///Users/evanrobert/Documents/ESDL_Research/ESDL_LSTM/neuralhydrology/neuralhydrology/training/basetrainer.py?line=211'>212</a>\u001b[0m         param_group[\u001b[39m\"\u001b[39m\u001b[39mlr\u001b[39m\u001b[39m\"\u001b[39m] \u001b[39m=\u001b[39m \u001b[39mself\u001b[39m\u001b[39m.\u001b[39mcfg\u001b[39m.\u001b[39mlearning_rate[epoch]\n\u001b[0;32m--> <a href='file:///Users/evanrobert/Documents/ESDL_Research/ESDL_LSTM/neuralhydrology/neuralhydrology/training/basetrainer.py?line=213'>214</a>\u001b[0m \u001b[39mself\u001b[39;49m\u001b[39m.\u001b[39;49m_train_epoch(epoch\u001b[39m=\u001b[39;49mepoch)\n\u001b[1;32m    <a href='file:///Users/evanrobert/Documents/ESDL_Research/ESDL_LSTM/neuralhydrology/neuralhydrology/training/basetrainer.py?line=214'>215</a>\u001b[0m avg_losses \u001b[39m=\u001b[39m \u001b[39mself\u001b[39m\u001b[39m.\u001b[39mexperiment_logger\u001b[39m.\u001b[39msummarise()\n\u001b[1;32m    <a href='file:///Users/evanrobert/Documents/ESDL_Research/ESDL_LSTM/neuralhydrology/neuralhydrology/training/basetrainer.py?line=215'>216</a>\u001b[0m loss_str \u001b[39m=\u001b[39m \u001b[39m\"\u001b[39m\u001b[39m, \u001b[39m\u001b[39m\"\u001b[39m\u001b[39m.\u001b[39mjoin(\u001b[39mf\u001b[39m\u001b[39m\"\u001b[39m\u001b[39m{\u001b[39;00mk\u001b[39m}\u001b[39;00m\u001b[39m: \u001b[39m\u001b[39m{\u001b[39;00mv\u001b[39m:\u001b[39;00m\u001b[39m.5f\u001b[39m\u001b[39m}\u001b[39;00m\u001b[39m\"\u001b[39m \u001b[39mfor\u001b[39;00m k, v \u001b[39min\u001b[39;00m avg_losses\u001b[39m.\u001b[39mitems())\n",
      "File \u001b[0;32m~/Documents/ESDL_Research/ESDL_LSTM/neuralhydrology/neuralhydrology/training/basetrainer.py:284\u001b[0m, in \u001b[0;36mBaseTrainer._train_epoch\u001b[0;34m(self, epoch)\u001b[0m\n\u001b[1;32m    <a href='file:///Users/evanrobert/Documents/ESDL_Research/ESDL_LSTM/neuralhydrology/neuralhydrology/training/basetrainer.py?line=281'>282</a>\u001b[0m \u001b[39m# Iterate in batches over training set\u001b[39;00m\n\u001b[1;32m    <a href='file:///Users/evanrobert/Documents/ESDL_Research/ESDL_LSTM/neuralhydrology/neuralhydrology/training/basetrainer.py?line=282'>283</a>\u001b[0m nan_count \u001b[39m=\u001b[39m \u001b[39m0\u001b[39m\n\u001b[0;32m--> <a href='file:///Users/evanrobert/Documents/ESDL_Research/ESDL_LSTM/neuralhydrology/neuralhydrology/training/basetrainer.py?line=283'>284</a>\u001b[0m \u001b[39mfor\u001b[39;00m i, data \u001b[39min\u001b[39;00m \u001b[39menumerate\u001b[39m(pbar):\n\u001b[1;32m    <a href='file:///Users/evanrobert/Documents/ESDL_Research/ESDL_LSTM/neuralhydrology/neuralhydrology/training/basetrainer.py?line=284'>285</a>\u001b[0m     \u001b[39mif\u001b[39;00m \u001b[39mself\u001b[39m\u001b[39m.\u001b[39m_max_updates_per_epoch \u001b[39mis\u001b[39;00m \u001b[39mnot\u001b[39;00m \u001b[39mNone\u001b[39;00m \u001b[39mand\u001b[39;00m i \u001b[39m>\u001b[39m\u001b[39m=\u001b[39m \u001b[39mself\u001b[39m\u001b[39m.\u001b[39m_max_updates_per_epoch:\n\u001b[1;32m    <a href='file:///Users/evanrobert/Documents/ESDL_Research/ESDL_LSTM/neuralhydrology/neuralhydrology/training/basetrainer.py?line=285'>286</a>\u001b[0m         \u001b[39mbreak\u001b[39;00m\n",
      "File \u001b[0;32m~/anaconda3/envs/lstm/lib/python3.10/site-packages/tqdm/std.py:1182\u001b[0m, in \u001b[0;36mtqdm.__iter__\u001b[0;34m(self)\u001b[0m\n\u001b[1;32m   <a href='file:///Users/evanrobert/anaconda3/envs/lstm/lib/python3.10/site-packages/tqdm/std.py?line=1178'>1179</a>\u001b[0m time \u001b[39m=\u001b[39m \u001b[39mself\u001b[39m\u001b[39m.\u001b[39m_time\n\u001b[1;32m   <a href='file:///Users/evanrobert/anaconda3/envs/lstm/lib/python3.10/site-packages/tqdm/std.py?line=1180'>1181</a>\u001b[0m \u001b[39mtry\u001b[39;00m:\n\u001b[0;32m-> <a href='file:///Users/evanrobert/anaconda3/envs/lstm/lib/python3.10/site-packages/tqdm/std.py?line=1181'>1182</a>\u001b[0m     \u001b[39mfor\u001b[39;00m obj \u001b[39min\u001b[39;00m iterable:\n\u001b[1;32m   <a href='file:///Users/evanrobert/anaconda3/envs/lstm/lib/python3.10/site-packages/tqdm/std.py?line=1182'>1183</a>\u001b[0m         \u001b[39myield\u001b[39;00m obj\n\u001b[1;32m   <a href='file:///Users/evanrobert/anaconda3/envs/lstm/lib/python3.10/site-packages/tqdm/std.py?line=1183'>1184</a>\u001b[0m         \u001b[39m# Update and possibly print the progressbar.\u001b[39;00m\n\u001b[1;32m   <a href='file:///Users/evanrobert/anaconda3/envs/lstm/lib/python3.10/site-packages/tqdm/std.py?line=1184'>1185</a>\u001b[0m         \u001b[39m# Note: does not call self.update(1) for speed optimisation.\u001b[39;00m\n",
      "File \u001b[0;32m~/anaconda3/envs/lstm/lib/python3.10/site-packages/torch/utils/data/dataloader.py:438\u001b[0m, in \u001b[0;36mDataLoader.__iter__\u001b[0;34m(self)\u001b[0m\n\u001b[1;32m    <a href='file:///Users/evanrobert/anaconda3/envs/lstm/lib/python3.10/site-packages/torch/utils/data/dataloader.py?line=435'>436</a>\u001b[0m     \u001b[39mreturn\u001b[39;00m \u001b[39mself\u001b[39m\u001b[39m.\u001b[39m_iterator\n\u001b[1;32m    <a href='file:///Users/evanrobert/anaconda3/envs/lstm/lib/python3.10/site-packages/torch/utils/data/dataloader.py?line=436'>437</a>\u001b[0m \u001b[39melse\u001b[39;00m:\n\u001b[0;32m--> <a href='file:///Users/evanrobert/anaconda3/envs/lstm/lib/python3.10/site-packages/torch/utils/data/dataloader.py?line=437'>438</a>\u001b[0m     \u001b[39mreturn\u001b[39;00m \u001b[39mself\u001b[39;49m\u001b[39m.\u001b[39;49m_get_iterator()\n",
      "File \u001b[0;32m~/anaconda3/envs/lstm/lib/python3.10/site-packages/torch/utils/data/dataloader.py:386\u001b[0m, in \u001b[0;36mDataLoader._get_iterator\u001b[0;34m(self)\u001b[0m\n\u001b[1;32m    <a href='file:///Users/evanrobert/anaconda3/envs/lstm/lib/python3.10/site-packages/torch/utils/data/dataloader.py?line=383'>384</a>\u001b[0m \u001b[39melse\u001b[39;00m:\n\u001b[1;32m    <a href='file:///Users/evanrobert/anaconda3/envs/lstm/lib/python3.10/site-packages/torch/utils/data/dataloader.py?line=384'>385</a>\u001b[0m     \u001b[39mself\u001b[39m\u001b[39m.\u001b[39mcheck_worker_number_rationality()\n\u001b[0;32m--> <a href='file:///Users/evanrobert/anaconda3/envs/lstm/lib/python3.10/site-packages/torch/utils/data/dataloader.py?line=385'>386</a>\u001b[0m     \u001b[39mreturn\u001b[39;00m _MultiProcessingDataLoaderIter(\u001b[39mself\u001b[39;49m)\n",
      "File \u001b[0;32m~/anaconda3/envs/lstm/lib/python3.10/site-packages/torch/utils/data/dataloader.py:1039\u001b[0m, in \u001b[0;36m_MultiProcessingDataLoaderIter.__init__\u001b[0;34m(self, loader)\u001b[0m\n\u001b[1;32m   <a href='file:///Users/evanrobert/anaconda3/envs/lstm/lib/python3.10/site-packages/torch/utils/data/dataloader.py?line=1031'>1032</a>\u001b[0m w\u001b[39m.\u001b[39mdaemon \u001b[39m=\u001b[39m \u001b[39mTrue\u001b[39;00m\n\u001b[1;32m   <a href='file:///Users/evanrobert/anaconda3/envs/lstm/lib/python3.10/site-packages/torch/utils/data/dataloader.py?line=1032'>1033</a>\u001b[0m \u001b[39m# NB: Process.start() actually take some time as it needs to\u001b[39;00m\n\u001b[1;32m   <a href='file:///Users/evanrobert/anaconda3/envs/lstm/lib/python3.10/site-packages/torch/utils/data/dataloader.py?line=1033'>1034</a>\u001b[0m \u001b[39m#     start a process and pass the arguments over via a pipe.\u001b[39;00m\n\u001b[1;32m   <a href='file:///Users/evanrobert/anaconda3/envs/lstm/lib/python3.10/site-packages/torch/utils/data/dataloader.py?line=1034'>1035</a>\u001b[0m \u001b[39m#     Therefore, we only add a worker to self._workers list after\u001b[39;00m\n\u001b[1;32m   <a href='file:///Users/evanrobert/anaconda3/envs/lstm/lib/python3.10/site-packages/torch/utils/data/dataloader.py?line=1035'>1036</a>\u001b[0m \u001b[39m#     it started, so that we do not call .join() if program dies\u001b[39;00m\n\u001b[1;32m   <a href='file:///Users/evanrobert/anaconda3/envs/lstm/lib/python3.10/site-packages/torch/utils/data/dataloader.py?line=1036'>1037</a>\u001b[0m \u001b[39m#     before it starts, and __del__ tries to join but will get:\u001b[39;00m\n\u001b[1;32m   <a href='file:///Users/evanrobert/anaconda3/envs/lstm/lib/python3.10/site-packages/torch/utils/data/dataloader.py?line=1037'>1038</a>\u001b[0m \u001b[39m#     AssertionError: can only join a started process.\u001b[39;00m\n\u001b[0;32m-> <a href='file:///Users/evanrobert/anaconda3/envs/lstm/lib/python3.10/site-packages/torch/utils/data/dataloader.py?line=1038'>1039</a>\u001b[0m w\u001b[39m.\u001b[39;49mstart()\n\u001b[1;32m   <a href='file:///Users/evanrobert/anaconda3/envs/lstm/lib/python3.10/site-packages/torch/utils/data/dataloader.py?line=1039'>1040</a>\u001b[0m \u001b[39mself\u001b[39m\u001b[39m.\u001b[39m_index_queues\u001b[39m.\u001b[39mappend(index_queue)\n\u001b[1;32m   <a href='file:///Users/evanrobert/anaconda3/envs/lstm/lib/python3.10/site-packages/torch/utils/data/dataloader.py?line=1040'>1041</a>\u001b[0m \u001b[39mself\u001b[39m\u001b[39m.\u001b[39m_workers\u001b[39m.\u001b[39mappend(w)\n",
      "File \u001b[0;32m~/anaconda3/envs/lstm/lib/python3.10/multiprocessing/process.py:121\u001b[0m, in \u001b[0;36mBaseProcess.start\u001b[0;34m(self)\u001b[0m\n\u001b[1;32m    <a href='file:///Users/evanrobert/anaconda3/envs/lstm/lib/python3.10/multiprocessing/process.py?line=117'>118</a>\u001b[0m \u001b[39massert\u001b[39;00m \u001b[39mnot\u001b[39;00m _current_process\u001b[39m.\u001b[39m_config\u001b[39m.\u001b[39mget(\u001b[39m'\u001b[39m\u001b[39mdaemon\u001b[39m\u001b[39m'\u001b[39m), \\\n\u001b[1;32m    <a href='file:///Users/evanrobert/anaconda3/envs/lstm/lib/python3.10/multiprocessing/process.py?line=118'>119</a>\u001b[0m        \u001b[39m'\u001b[39m\u001b[39mdaemonic processes are not allowed to have children\u001b[39m\u001b[39m'\u001b[39m\n\u001b[1;32m    <a href='file:///Users/evanrobert/anaconda3/envs/lstm/lib/python3.10/multiprocessing/process.py?line=119'>120</a>\u001b[0m _cleanup()\n\u001b[0;32m--> <a href='file:///Users/evanrobert/anaconda3/envs/lstm/lib/python3.10/multiprocessing/process.py?line=120'>121</a>\u001b[0m \u001b[39mself\u001b[39m\u001b[39m.\u001b[39m_popen \u001b[39m=\u001b[39m \u001b[39mself\u001b[39;49m\u001b[39m.\u001b[39;49m_Popen(\u001b[39mself\u001b[39;49m)\n\u001b[1;32m    <a href='file:///Users/evanrobert/anaconda3/envs/lstm/lib/python3.10/multiprocessing/process.py?line=121'>122</a>\u001b[0m \u001b[39mself\u001b[39m\u001b[39m.\u001b[39m_sentinel \u001b[39m=\u001b[39m \u001b[39mself\u001b[39m\u001b[39m.\u001b[39m_popen\u001b[39m.\u001b[39msentinel\n\u001b[1;32m    <a href='file:///Users/evanrobert/anaconda3/envs/lstm/lib/python3.10/multiprocessing/process.py?line=122'>123</a>\u001b[0m \u001b[39m# Avoid a refcycle if the target function holds an indirect\u001b[39;00m\n\u001b[1;32m    <a href='file:///Users/evanrobert/anaconda3/envs/lstm/lib/python3.10/multiprocessing/process.py?line=123'>124</a>\u001b[0m \u001b[39m# reference to the process object (see bpo-30775)\u001b[39;00m\n",
      "File \u001b[0;32m~/anaconda3/envs/lstm/lib/python3.10/multiprocessing/context.py:224\u001b[0m, in \u001b[0;36mProcess._Popen\u001b[0;34m(process_obj)\u001b[0m\n\u001b[1;32m    <a href='file:///Users/evanrobert/anaconda3/envs/lstm/lib/python3.10/multiprocessing/context.py?line=221'>222</a>\u001b[0m \u001b[39m@staticmethod\u001b[39m\n\u001b[1;32m    <a href='file:///Users/evanrobert/anaconda3/envs/lstm/lib/python3.10/multiprocessing/context.py?line=222'>223</a>\u001b[0m \u001b[39mdef\u001b[39;00m \u001b[39m_Popen\u001b[39m(process_obj):\n\u001b[0;32m--> <a href='file:///Users/evanrobert/anaconda3/envs/lstm/lib/python3.10/multiprocessing/context.py?line=223'>224</a>\u001b[0m     \u001b[39mreturn\u001b[39;00m _default_context\u001b[39m.\u001b[39;49mget_context()\u001b[39m.\u001b[39;49mProcess\u001b[39m.\u001b[39;49m_Popen(process_obj)\n",
      "File \u001b[0;32m~/anaconda3/envs/lstm/lib/python3.10/multiprocessing/context.py:288\u001b[0m, in \u001b[0;36mSpawnProcess._Popen\u001b[0;34m(process_obj)\u001b[0m\n\u001b[1;32m    <a href='file:///Users/evanrobert/anaconda3/envs/lstm/lib/python3.10/multiprocessing/context.py?line=284'>285</a>\u001b[0m \u001b[39m@staticmethod\u001b[39m\n\u001b[1;32m    <a href='file:///Users/evanrobert/anaconda3/envs/lstm/lib/python3.10/multiprocessing/context.py?line=285'>286</a>\u001b[0m \u001b[39mdef\u001b[39;00m \u001b[39m_Popen\u001b[39m(process_obj):\n\u001b[1;32m    <a href='file:///Users/evanrobert/anaconda3/envs/lstm/lib/python3.10/multiprocessing/context.py?line=286'>287</a>\u001b[0m     \u001b[39mfrom\u001b[39;00m \u001b[39m.\u001b[39;00m\u001b[39mpopen_spawn_posix\u001b[39;00m \u001b[39mimport\u001b[39;00m Popen\n\u001b[0;32m--> <a href='file:///Users/evanrobert/anaconda3/envs/lstm/lib/python3.10/multiprocessing/context.py?line=287'>288</a>\u001b[0m     \u001b[39mreturn\u001b[39;00m Popen(process_obj)\n",
      "File \u001b[0;32m~/anaconda3/envs/lstm/lib/python3.10/multiprocessing/popen_spawn_posix.py:32\u001b[0m, in \u001b[0;36mPopen.__init__\u001b[0;34m(self, process_obj)\u001b[0m\n\u001b[1;32m     <a href='file:///Users/evanrobert/anaconda3/envs/lstm/lib/python3.10/multiprocessing/popen_spawn_posix.py?line=29'>30</a>\u001b[0m \u001b[39mdef\u001b[39;00m \u001b[39m__init__\u001b[39m(\u001b[39mself\u001b[39m, process_obj):\n\u001b[1;32m     <a href='file:///Users/evanrobert/anaconda3/envs/lstm/lib/python3.10/multiprocessing/popen_spawn_posix.py?line=30'>31</a>\u001b[0m     \u001b[39mself\u001b[39m\u001b[39m.\u001b[39m_fds \u001b[39m=\u001b[39m []\n\u001b[0;32m---> <a href='file:///Users/evanrobert/anaconda3/envs/lstm/lib/python3.10/multiprocessing/popen_spawn_posix.py?line=31'>32</a>\u001b[0m     \u001b[39msuper\u001b[39;49m()\u001b[39m.\u001b[39;49m\u001b[39m__init__\u001b[39;49m(process_obj)\n",
      "File \u001b[0;32m~/anaconda3/envs/lstm/lib/python3.10/multiprocessing/popen_fork.py:19\u001b[0m, in \u001b[0;36mPopen.__init__\u001b[0;34m(self, process_obj)\u001b[0m\n\u001b[1;32m     <a href='file:///Users/evanrobert/anaconda3/envs/lstm/lib/python3.10/multiprocessing/popen_fork.py?line=16'>17</a>\u001b[0m \u001b[39mself\u001b[39m\u001b[39m.\u001b[39mreturncode \u001b[39m=\u001b[39m \u001b[39mNone\u001b[39;00m\n\u001b[1;32m     <a href='file:///Users/evanrobert/anaconda3/envs/lstm/lib/python3.10/multiprocessing/popen_fork.py?line=17'>18</a>\u001b[0m \u001b[39mself\u001b[39m\u001b[39m.\u001b[39mfinalizer \u001b[39m=\u001b[39m \u001b[39mNone\u001b[39;00m\n\u001b[0;32m---> <a href='file:///Users/evanrobert/anaconda3/envs/lstm/lib/python3.10/multiprocessing/popen_fork.py?line=18'>19</a>\u001b[0m \u001b[39mself\u001b[39;49m\u001b[39m.\u001b[39;49m_launch(process_obj)\n",
      "File \u001b[0;32m~/anaconda3/envs/lstm/lib/python3.10/multiprocessing/popen_spawn_posix.py:62\u001b[0m, in \u001b[0;36mPopen._launch\u001b[0;34m(self, process_obj)\u001b[0m\n\u001b[1;32m     <a href='file:///Users/evanrobert/anaconda3/envs/lstm/lib/python3.10/multiprocessing/popen_spawn_posix.py?line=59'>60</a>\u001b[0m     \u001b[39mself\u001b[39m\u001b[39m.\u001b[39msentinel \u001b[39m=\u001b[39m parent_r\n\u001b[1;32m     <a href='file:///Users/evanrobert/anaconda3/envs/lstm/lib/python3.10/multiprocessing/popen_spawn_posix.py?line=60'>61</a>\u001b[0m     \u001b[39mwith\u001b[39;00m \u001b[39mopen\u001b[39m(parent_w, \u001b[39m'\u001b[39m\u001b[39mwb\u001b[39m\u001b[39m'\u001b[39m, closefd\u001b[39m=\u001b[39m\u001b[39mFalse\u001b[39;00m) \u001b[39mas\u001b[39;00m f:\n\u001b[0;32m---> <a href='file:///Users/evanrobert/anaconda3/envs/lstm/lib/python3.10/multiprocessing/popen_spawn_posix.py?line=61'>62</a>\u001b[0m         f\u001b[39m.\u001b[39;49mwrite(fp\u001b[39m.\u001b[39;49mgetbuffer())\n\u001b[1;32m     <a href='file:///Users/evanrobert/anaconda3/envs/lstm/lib/python3.10/multiprocessing/popen_spawn_posix.py?line=62'>63</a>\u001b[0m \u001b[39mfinally\u001b[39;00m:\n\u001b[1;32m     <a href='file:///Users/evanrobert/anaconda3/envs/lstm/lib/python3.10/multiprocessing/popen_spawn_posix.py?line=63'>64</a>\u001b[0m     fds_to_close \u001b[39m=\u001b[39m []\n",
      "\u001b[0;31mKeyboardInterrupt\u001b[0m: "
     ]
    }
   ],
   "source": [
    "config = Config(Path(\"../initial_exploration/parallel_grid_search.yml\"))\n",
    "ESDL_start_run(config, gpu=-1)"
   ]
  },
  {
   "cell_type": "code",
   "execution_count": 6,
   "metadata": {},
   "outputs": [],
   "source": [
    "def grid_search():\n",
    "    hidden_states = [64, 96, 156, 196, 256]\n",
    "    dropout_rate = [0.0, 0.25, 0.4, 0.5]\n",
    "    input_seq_lengths = [90, 180, 270, 365]\n",
    "    #stacked_layers = [1, 2]\n",
    "\n",
    "    param_combos = []\n",
    "    for i in hidden_states:\n",
    "        for j in dropout_rate:\n",
    "            for k in input_seq_lengths:\n",
    "                param_combos.append((i, j, k))\n",
    "\n",
    "    config_path = Path(\"../initial_exploration/parallel_grid_search.yml\")\n",
    "\n",
    "    param_nse = []\n",
    "    # parallel portion\n",
    "    for c in param_combos:\n",
    "        config = Config(config_path)\n",
    "        config.update_config({'hidden_size': c[0]})\n",
    "        config.update_config({'output_dropout': c[1]})\n",
    "        config.update_config({'seq_length': c[2]})\n",
    "\n",
    "        nse = ESDL_ensemble(config, gpu=-1)\n",
    "        param_nse.append((c, nse))\n",
    "    \n",
    "    return param_combos, param_nse\n",
    "    "
   ]
  },
  {
   "cell_type": "code",
   "execution_count": 13,
   "metadata": {},
   "outputs": [],
   "source": [
    "def ESDL_ensemble(config, num_ensemble_members=5):\n",
    "    '''Train ensemble for given config file and return ensemble NSE'''\n",
    "\n",
    "    #train models\n",
    "    paths = []\n",
    "    for i in range(num_ensemble_members):\n",
    "        ESDL_start_run(config, gpu=-1)\n",
    "        path = config.run_dir\n",
    "        paths.append(path)\n",
    "    \n",
    "    #evaluate models\n",
    "    for p in paths:\n",
    "        eval_run(run_dir=p, period=\"test\")\n",
    "        eval_run(run_dir=p, period=\"validation\")\n",
    "\n",
    "    ensemble_run = create_results_ensemble(paths, period='test')\n",
    "    ensemble_nse = ensemble_run['Tuler']['1D']['NSE']\n",
    "    return ensemble_nse\n"
   ]
  }
 ],
 "metadata": {
  "interpreter": {
   "hash": "3cf5d4b29e5ac91794ed769f38822a919c48d3cb370f339168c557e6169da814"
  },
  "kernelspec": {
   "display_name": "Python 3 (ipykernel)",
   "language": "python",
   "name": "python3"
  },
  "language_info": {
   "codemirror_mode": {
    "name": "ipython",
    "version": 3
   },
   "file_extension": ".py",
   "mimetype": "text/x-python",
   "name": "python",
   "nbconvert_exporter": "python",
   "pygments_lexer": "ipython3",
   "version": "3.11.7"
  }
 },
 "nbformat": 4,
 "nbformat_minor": 4
}
